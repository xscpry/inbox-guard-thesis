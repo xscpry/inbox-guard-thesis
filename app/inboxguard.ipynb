{
 "cells": [
  {
   "cell_type": "code",
   "execution_count": 14,
   "id": "cfd6fe8b",
   "metadata": {},
   "outputs": [],
   "source": [
    "import pandas as pd\n",
    "import numpy as np\n",
    "from sklearn.feature_extraction.text import TfidfVectorizer, CountVectorizer\n",
    "import re"
   ]
  },
  {
   "cell_type": "code",
   "execution_count": 15,
   "id": "5c4c93f7",
   "metadata": {},
   "outputs": [],
   "source": [
    "pd.set_option(\"display.max_row\",None)\n",
    "pd.set_option(\"display.max_column\",None)"
   ]
  },
  {
   "cell_type": "code",
   "execution_count": 16,
   "id": "b39bfb66",
   "metadata": {},
   "outputs": [],
   "source": [
    "df=pd.read_csv('Phishing_Email.csv')"
   ]
  },
  {
   "cell_type": "code",
   "execution_count": 5,
   "id": "208e37c5",
   "metadata": {},
   "outputs": [
    {
     "data": {
      "text/html": [
       "<div>\n",
       "<style scoped>\n",
       "    .dataframe tbody tr th:only-of-type {\n",
       "        vertical-align: middle;\n",
       "    }\n",
       "\n",
       "    .dataframe tbody tr th {\n",
       "        vertical-align: top;\n",
       "    }\n",
       "\n",
       "    .dataframe thead th {\n",
       "        text-align: right;\n",
       "    }\n",
       "</style>\n",
       "<table border=\"1\" class=\"dataframe\">\n",
       "  <thead>\n",
       "    <tr style=\"text-align: right;\">\n",
       "      <th></th>\n",
       "      <th>Unnamed: 0</th>\n",
       "      <th>Email Text</th>\n",
       "      <th>Email Type</th>\n",
       "    </tr>\n",
       "  </thead>\n",
       "  <tbody>\n",
       "    <tr>\n",
       "      <th>0</th>\n",
       "      <td>0</td>\n",
       "      <td>re : 6 . 1100 , disc : uniformitarianism , re ...</td>\n",
       "      <td>Safe Email</td>\n",
       "    </tr>\n",
       "    <tr>\n",
       "      <th>1</th>\n",
       "      <td>1</td>\n",
       "      <td>the other side of * galicismos * * galicismo *...</td>\n",
       "      <td>Safe Email</td>\n",
       "    </tr>\n",
       "    <tr>\n",
       "      <th>2</th>\n",
       "      <td>2</td>\n",
       "      <td>re : equistar deal tickets are you still avail...</td>\n",
       "      <td>Safe Email</td>\n",
       "    </tr>\n",
       "    <tr>\n",
       "      <th>3</th>\n",
       "      <td>3</td>\n",
       "      <td>\\nHello I am your hot lil horny toy.\\n    I am...</td>\n",
       "      <td>Phishing Email</td>\n",
       "    </tr>\n",
       "    <tr>\n",
       "      <th>4</th>\n",
       "      <td>4</td>\n",
       "      <td>software at incredibly low prices ( 86 % lower...</td>\n",
       "      <td>Phishing Email</td>\n",
       "    </tr>\n",
       "  </tbody>\n",
       "</table>\n",
       "</div>"
      ],
      "text/plain": [
       "   Unnamed: 0                                         Email Text  \\\n",
       "0           0  re : 6 . 1100 , disc : uniformitarianism , re ...   \n",
       "1           1  the other side of * galicismos * * galicismo *...   \n",
       "2           2  re : equistar deal tickets are you still avail...   \n",
       "3           3  \\nHello I am your hot lil horny toy.\\n    I am...   \n",
       "4           4  software at incredibly low prices ( 86 % lower...   \n",
       "\n",
       "       Email Type  \n",
       "0      Safe Email  \n",
       "1      Safe Email  \n",
       "2      Safe Email  \n",
       "3  Phishing Email  \n",
       "4  Phishing Email  "
      ]
     },
     "execution_count": 5,
     "metadata": {},
     "output_type": "execute_result"
    }
   ],
   "source": [
    "df.head()"
   ]
  },
  {
   "cell_type": "markdown",
   "id": "86536e9f-8d10-4667-b5a8-a55f5c4648e4",
   "metadata": {},
   "source": [
    "# Dataset Preprocessing"
   ]
  },
  {
   "cell_type": "code",
   "execution_count": 17,
   "id": "53ca541d",
   "metadata": {},
   "outputs": [
    {
     "data": {
      "text/plain": [
       "Unnamed: 0     0\n",
       "Email Text    16\n",
       "Email Type     0\n",
       "dtype: int64"
      ]
     },
     "execution_count": 17,
     "metadata": {},
     "output_type": "execute_result"
    }
   ],
   "source": [
    "df.isna().sum()"
   ]
  },
  {
   "cell_type": "code",
   "execution_count": 18,
   "id": "0bb277c8",
   "metadata": {},
   "outputs": [],
   "source": [
    "df.dropna(thresh=1*df.shape[1],inplace=True)"
   ]
  },
  {
   "cell_type": "code",
   "execution_count": 19,
   "id": "4bcaf6fa",
   "metadata": {},
   "outputs": [],
   "source": [
    "df=df.rename(columns={'Email Text' : 'Body' , 'Email Type' : 'Type'})"
   ]
  },
  {
   "cell_type": "code",
   "execution_count": 20,
   "id": "f3f935c9",
   "metadata": {},
   "outputs": [],
   "source": [
    "df=df.drop('Unnamed: 0', axis=1)"
   ]
  },
  {
   "cell_type": "code",
   "execution_count": 153,
   "id": "96dd5f74-d46c-4310-99f5-1a1bb3986a56",
   "metadata": {},
   "outputs": [],
   "source": [
    "emails_df = df.copy()"
   ]
  },
  {
   "cell_type": "code",
   "execution_count": 154,
   "id": "ecad3a75",
   "metadata": {},
   "outputs": [
    {
     "name": "stderr",
     "output_type": "stream",
     "text": [
      "C:\\Users\\ACER\\AppData\\Local\\Temp\\ipykernel_7312\\2422619564.py:1: FutureWarning: Downcasting behavior in `replace` is deprecated and will be removed in a future version. To retain the old behavior, explicitly call `result.infer_objects(copy=False)`. To opt-in to the future behavior, set `pd.set_option('future.no_silent_downcasting', True)`\n",
      "  emails_df['Type'] = emails_df['Type'].replace({'Safe Email': 0, 'Phishing Email': 1}).astype(int)\n"
     ]
    }
   ],
   "source": [
    "emails_df['Type'] = emails_df['Type'].replace({'Safe Email': 0, 'Phishing Email': 1}).astype(int)"
   ]
  },
  {
   "cell_type": "code",
   "execution_count": 155,
   "id": "e94ef443",
   "metadata": {},
   "outputs": [
    {
     "data": {
      "text/html": [
       "<div>\n",
       "<style scoped>\n",
       "    .dataframe tbody tr th:only-of-type {\n",
       "        vertical-align: middle;\n",
       "    }\n",
       "\n",
       "    .dataframe tbody tr th {\n",
       "        vertical-align: top;\n",
       "    }\n",
       "\n",
       "    .dataframe thead th {\n",
       "        text-align: right;\n",
       "    }\n",
       "</style>\n",
       "<table border=\"1\" class=\"dataframe\">\n",
       "  <thead>\n",
       "    <tr style=\"text-align: right;\">\n",
       "      <th></th>\n",
       "      <th>Body</th>\n",
       "      <th>Type</th>\n",
       "    </tr>\n",
       "  </thead>\n",
       "  <tbody>\n",
       "    <tr>\n",
       "      <th>0</th>\n",
       "      <td>re : 6 . 1100 , disc : uniformitarianism , re ...</td>\n",
       "      <td>0</td>\n",
       "    </tr>\n",
       "    <tr>\n",
       "      <th>1</th>\n",
       "      <td>the other side of * galicismos * * galicismo *...</td>\n",
       "      <td>0</td>\n",
       "    </tr>\n",
       "    <tr>\n",
       "      <th>2</th>\n",
       "      <td>re : equistar deal tickets are you still avail...</td>\n",
       "      <td>0</td>\n",
       "    </tr>\n",
       "    <tr>\n",
       "      <th>3</th>\n",
       "      <td>\\nHello I am your hot lil horny toy.\\n    I am...</td>\n",
       "      <td>1</td>\n",
       "    </tr>\n",
       "    <tr>\n",
       "      <th>4</th>\n",
       "      <td>software at incredibly low prices ( 86 % lower...</td>\n",
       "      <td>1</td>\n",
       "    </tr>\n",
       "  </tbody>\n",
       "</table>\n",
       "</div>"
      ],
      "text/plain": [
       "                                                Body  Type\n",
       "0  re : 6 . 1100 , disc : uniformitarianism , re ...     0\n",
       "1  the other side of * galicismos * * galicismo *...     0\n",
       "2  re : equistar deal tickets are you still avail...     0\n",
       "3  \\nHello I am your hot lil horny toy.\\n    I am...     1\n",
       "4  software at incredibly low prices ( 86 % lower...     1"
      ]
     },
     "execution_count": 155,
     "metadata": {},
     "output_type": "execute_result"
    }
   ],
   "source": [
    "emails_df.head()"
   ]
  },
  {
   "cell_type": "markdown",
   "id": "7c29f4e6-9d17-49b1-866d-b0406ee8af23",
   "metadata": {},
   "source": [
    "# Detect Malicious Email Content"
   ]
  },
  {
   "cell_type": "code",
   "execution_count": 156,
   "id": "65002e64",
   "metadata": {},
   "outputs": [],
   "source": [
    "def preprocess_text(text):\n",
    "    text = re.sub(r'[^a-zA-Z\\s]', '', text)  # Keep only letters and spaces\n",
    "    text = re.sub(r'\\s+', ' ', text)         # Remove extra spaces\n",
    "    return text.lower()                      # Convert to lowercase"
   ]
  },
  {
   "cell_type": "code",
   "execution_count": 157,
   "id": "0475af22-7566-448e-9618-5fae87cdb439",
   "metadata": {},
   "outputs": [],
   "source": [
    "emails_df['Body'] = emails_df['Body'].apply(preprocess_text)"
   ]
  },
  {
   "cell_type": "code",
   "execution_count": 158,
   "id": "baa90fe8-6c43-45bd-9c1b-edf900156eec",
   "metadata": {},
   "outputs": [],
   "source": [
    "def word_count(text):\n",
    "    return len(text.split())"
   ]
  },
  {
   "cell_type": "code",
   "execution_count": 159,
   "id": "9bf41553-a8c0-4286-a790-6fef14807445",
   "metadata": {},
   "outputs": [],
   "source": [
    "def count_suspicious_words(text):\n",
    "    suspicious_words = ['urgent', 'click here', 'limited time', 'verify account', 'password reset', \n",
    "                         'act now', 'suspicious activity', 'bank', 'invoice', 'free', 'credit card']\n",
    "    return sum(word in text for word in suspicious_words)"
   ]
  },
  {
   "cell_type": "code",
   "execution_count": 160,
   "id": "9539eefc-cd5a-4d71-a2dd-61b96fd33b49",
   "metadata": {},
   "outputs": [],
   "source": [
    "def malicious_content(text):\n",
    "    text = text.lower()\n",
    "    \n",
    "    malicious_phrases = ['urgent', 'click here', 'limited time', 'verify account', 'password reset', \n",
    "                         'act now', 'suspicious activity', 'bank', 'invoice', 'free', 'credit card']\n",
    "    \n",
    "    # Count occurrences of malicious phrases\n",
    "    phrase_count = sum([1 for phrase in malicious_phrases if phrase in text])\n",
    "    \n",
    "    # Detect if the email contains HTML tags\n",
    "    html_tag_pattern = r'<[^>]+>'\n",
    "    contains_html = int(bool(re.search(html_tag_pattern, text)))\n",
    "\n",
    "    # Combine all detected suspicious elements into a feature score\n",
    "    malicious_score = phrase_count + contains_html\n",
    "    \n",
    "    # Return 1 if malicious content is detected, 0 otherwise\n",
    "    return int(malicious_score > 0)\n"
   ]
  },
  {
   "cell_type": "code",
   "execution_count": 161,
   "id": "1326ef34-3e92-40b1-8aa7-70d9b1238138",
   "metadata": {},
   "outputs": [],
   "source": [
    "emails_df['word_count'] = emails_df['Body'].apply(word_count)\n",
    "emails_df['suspicious_word_count'] = emails_df['Body'].apply(count_suspicious_words)\n",
    "emails_df['malicious_email_content'] = emails_df['Body'].apply(malicious_content)"
   ]
  },
  {
   "cell_type": "code",
   "execution_count": 162,
   "id": "61f8a1f1-49db-45a3-abcd-423fbd5b7f05",
   "metadata": {
    "scrolled": true
   },
   "outputs": [
    {
     "data": {
      "text/html": [
       "<div>\n",
       "<style scoped>\n",
       "    .dataframe tbody tr th:only-of-type {\n",
       "        vertical-align: middle;\n",
       "    }\n",
       "\n",
       "    .dataframe tbody tr th {\n",
       "        vertical-align: top;\n",
       "    }\n",
       "\n",
       "    .dataframe thead th {\n",
       "        text-align: right;\n",
       "    }\n",
       "</style>\n",
       "<table border=\"1\" class=\"dataframe\">\n",
       "  <thead>\n",
       "    <tr style=\"text-align: right;\">\n",
       "      <th></th>\n",
       "      <th>Body</th>\n",
       "      <th>Type</th>\n",
       "      <th>word_count</th>\n",
       "      <th>suspicious_word_count</th>\n",
       "      <th>malicious_email_content</th>\n",
       "    </tr>\n",
       "  </thead>\n",
       "  <tbody>\n",
       "    <tr>\n",
       "      <th>2144</th>\n",
       "      <td>folks my first time posting have a bit of unix...</td>\n",
       "      <td>0</td>\n",
       "      <td>220</td>\n",
       "      <td>0</td>\n",
       "      <td>0</td>\n",
       "    </tr>\n",
       "    <tr>\n",
       "      <th>17115</th>\n",
       "      <td>url httpboingboingnet date not suppliedmodern ...</td>\n",
       "      <td>0</td>\n",
       "      <td>71</td>\n",
       "      <td>0</td>\n",
       "      <td>0</td>\n",
       "    </tr>\n",
       "    <tr>\n",
       "      <th>9610</th>\n",
       "      <td>save your money buy getting this thing here yo...</td>\n",
       "      <td>1</td>\n",
       "      <td>80</td>\n",
       "      <td>0</td>\n",
       "      <td>0</td>\n",
       "    </tr>\n",
       "    <tr>\n",
       "      <th>8845</th>\n",
       "      <td>re netco items you did it was part of another ...</td>\n",
       "      <td>0</td>\n",
       "      <td>607</td>\n",
       "      <td>0</td>\n",
       "      <td>0</td>\n",
       "    </tr>\n",
       "    <tr>\n",
       "      <th>10552</th>\n",
       "      <td>url httpdiveintomarkorgarchiveshtmladvancedcss...</td>\n",
       "      <td>0</td>\n",
       "      <td>42</td>\n",
       "      <td>0</td>\n",
       "      <td>0</td>\n",
       "    </tr>\n",
       "  </tbody>\n",
       "</table>\n",
       "</div>"
      ],
      "text/plain": [
       "                                                    Body  Type  word_count  \\\n",
       "2144   folks my first time posting have a bit of unix...     0         220   \n",
       "17115  url httpboingboingnet date not suppliedmodern ...     0          71   \n",
       "9610   save your money buy getting this thing here yo...     1          80   \n",
       "8845   re netco items you did it was part of another ...     0         607   \n",
       "10552  url httpdiveintomarkorgarchiveshtmladvancedcss...     0          42   \n",
       "\n",
       "       suspicious_word_count  malicious_email_content  \n",
       "2144                       0                        0  \n",
       "17115                      0                        0  \n",
       "9610                       0                        0  \n",
       "8845                       0                        0  \n",
       "10552                      0                        0  "
      ]
     },
     "execution_count": 162,
     "metadata": {},
     "output_type": "execute_result"
    }
   ],
   "source": [
    "emails_df.sample(5)"
   ]
  },
  {
   "cell_type": "code",
   "execution_count": 144,
   "id": "12fd53cb-62c8-4d04-b99e-babd03864f6b",
   "metadata": {},
   "outputs": [
    {
     "name": "stdout",
     "output_type": "stream",
     "text": [
      "X_train_features shape: (13043, 102)\n",
      "X_test_features shape: (5591, 102)\n"
     ]
    }
   ],
   "source": [
    "from sklearn.model_selection import train_test_split\n",
    "from sklearn.ensemble import RandomForestClassifier, VotingClassifier\n",
    "from sklearn.tree import DecisionTreeClassifier\n",
    "from sklearn.metrics import accuracy_score, precision_score, recall_score, f1_score, roc_auc_score, confusion_matrix\n",
    "from scipy.sparse import hstack, csr_matrix\n",
    "from sklearn.decomposition import TruncatedSVD\n",
    "from sklearn.feature_extraction.text import TfidfVectorizer\n",
    "\n",
    "# Assuming emails_df is your DataFrame\n",
    "X_text = emails_df['Body']\n",
    "y = emails_df['Type']  # Target variable (0 = Safe, 1 = Phishing)\n",
    "\n",
    "# Split the dataset into training and testing sets\n",
    "X_train_text, X_test_text, y_train, y_test = train_test_split(X_text, y, train_size=0.7, shuffle=True, random_state=1)\n",
    "\n",
    "# Vectorize the text data using TF-IDF\n",
    "vectorizer = TfidfVectorizer()\n",
    "X_train_tfidf = vectorizer.fit_transform(X_train_text)\n",
    "X_test_tfidf = vectorizer.transform(X_test_text)\n",
    "\n",
    "# Reduce dimensions of TF-IDF features\n",
    "svd = TruncatedSVD(n_components=100, random_state=42)\n",
    "X_train_tfidf_reduced = svd.fit_transform(X_train_tfidf)\n",
    "X_test_tfidf_reduced = svd.transform(X_test_tfidf)\n",
    "\n",
    "# Get the indices for the training and testing sets\n",
    "train_indices = X_train_text.index\n",
    "test_indices = X_test_text.index\n",
    "\n",
    "# Extract additional features\n",
    "train_additional_features = emails_df.loc[train_indices, ['word_count', 'malicious_email_content']].values\n",
    "test_additional_features = emails_df.loc[test_indices, ['word_count', 'malicious_email_content']].values\n",
    "\n",
    "# Convert additional features to sparse matrices\n",
    "train_additional_features_sparse = csr_matrix(train_additional_features)\n",
    "test_additional_features_sparse = csr_matrix(test_additional_features)\n",
    "\n",
    "# Combine the TF-IDF features with the additional features\n",
    "X_train_features = hstack([X_train_tfidf_reduced, train_additional_features_sparse])\n",
    "X_test_features = hstack([X_test_tfidf_reduced, test_additional_features_sparse])\n",
    "\n",
    "# Optional: Check the shape of the combined features\n",
    "print(\"X_train_features shape:\", X_train_features.shape)  # Should be (num_samples, 102)\n",
    "print(\"X_test_features shape:\", X_test_features.shape)    # Should be (num_samples, 102)\n"
   ]
  },
  {
   "cell_type": "markdown",
   "id": "5596ce2c-9527-46cd-9023-4d7632568007",
   "metadata": {},
   "source": [
    "# Feature Engineering: Combining TF-IDF and Additional Email Features"
   ]
  },
  {
   "cell_type": "code",
   "execution_count": 163,
   "id": "3dc28532-e5d4-4b4c-ae29-fd32fa0f5dd1",
   "metadata": {},
   "outputs": [],
   "source": [
    "from sklearn.model_selection import train_test_split\n",
    "from sklearn.ensemble import RandomForestClassifier, VotingClassifier\n",
    "from sklearn.tree import DecisionTreeClassifier\n",
    "from sklearn.metrics import accuracy_score, precision_score, recall_score, f1_score, roc_auc_score, confusion_matrix\n",
    "from scipy.sparse import hstack, csr_matrix\n",
    "from sklearn.decomposition import TruncatedSVD\n",
    "from sklearn.feature_extraction.text import TfidfVectorizer"
   ]
  },
  {
   "cell_type": "code",
   "execution_count": 164,
   "id": "0026df47-1785-4f99-9e23-641714d5f804",
   "metadata": {},
   "outputs": [],
   "source": [
    "X_text = emails_df['Body']\n",
    "y = emails_df['Type']  # Target variable (0 = Safe, 1 = Phishing)\n",
    "\n",
    "# Split the dataset into training and testing sets\n",
    "X_train_text, X_test_text, y_train, y_test = train_test_split(X_text, y, train_size=0.7, shuffle=True, random_state=1)"
   ]
  },
  {
   "cell_type": "code",
   "execution_count": 165,
   "id": "2feaa896-949b-4759-98be-8f984da71b3f",
   "metadata": {},
   "outputs": [],
   "source": [
    "# Vectorize the text data using TF-IDF\n",
    "vectorizer = TfidfVectorizer()\n",
    "X_train_tfidf = vectorizer.fit_transform(X_train_text)\n",
    "X_test_tfidf = vectorizer.transform(X_test_text)"
   ]
  },
  {
   "cell_type": "code",
   "execution_count": 166,
   "id": "b6ba431d-14f4-4356-bbc5-93e4f5b08de5",
   "metadata": {},
   "outputs": [],
   "source": [
    "# Reduce dimensions of TF-IDF features\n",
    "svd = TruncatedSVD(n_components=100, random_state=42)\n",
    "X_train_tfidf_reduced = svd.fit_transform(X_train_tfidf)\n",
    "X_test_tfidf_reduced = svd.transform(X_test_tfidf)"
   ]
  },
  {
   "cell_type": "code",
   "execution_count": 167,
   "id": "9055ed0e-8854-4286-a6b9-7d6290806c96",
   "metadata": {},
   "outputs": [],
   "source": [
    "# Get the indices for the training and testing sets\n",
    "train_indices = X_train_text.index\n",
    "test_indices = X_test_text.index\n",
    "\n",
    "# Extract additional features\n",
    "train_additional_features = emails_df.loc[train_indices, ['word_count', 'malicious_email_content']].values\n",
    "test_additional_features = emails_df.loc[test_indices, ['word_count', 'malicious_email_content']].values\n",
    "\n",
    "# Convert additional features to sparse matrices\n",
    "train_additional_features_sparse = csr_matrix(train_additional_features)\n",
    "test_additional_features_sparse = csr_matrix(test_additional_features)\n",
    "\n",
    "\n",
    "# Combine the TF-IDF features with the additional features\n",
    "X_train_features = hstack([X_train_tfidf_reduced, train_additional_features_sparse])\n",
    "X_test_features = hstack([X_test_tfidf_reduced, test_additional_features_sparse])"
   ]
  },
  {
   "cell_type": "markdown",
   "id": "544603db-87e0-4c16-98fb-ccc6a52403e1",
   "metadata": {},
   "source": [
    "# Training the Model"
   ]
  },
  {
   "cell_type": "code",
   "execution_count": 168,
   "id": "8f351b38-028a-49c2-979c-26076625977c",
   "metadata": {},
   "outputs": [],
   "source": [
    "# Decision tree algorithms\n",
    "classifiers = {\n",
    "    \"J48_DecisionTree\": DecisionTreeClassifier(criterion='entropy', random_state=42),\n",
    "    \"Simple_CART\": DecisionTreeClassifier(criterion='gini', random_state=42),\n",
    "    \"Random_Forest\": RandomForestClassifier(class_weight='balanced', random_state=42),\n",
    "    \"Random_Tree\": DecisionTreeClassifier(random_state=42),\n",
    "    \"ADTree\": DecisionTreeClassifier(random_state=42),\n",
    "    \"REPTree\": DecisionTreeClassifier(random_state=42)\n",
    "}"
   ]
  },
  {
   "cell_type": "code",
   "execution_count": 169,
   "id": "90e89dba-1bfb-4b36-a7e1-2b9b38527027",
   "metadata": {},
   "outputs": [
    {
     "name": "stdout",
     "output_type": "stream",
     "text": [
      "Results for J48_DecisionTree:\n",
      "Accuracy: 0.9252\n",
      "Precision: 0.9027\n",
      "Recall: 0.9108\n",
      "F1-Score: 0.9067\n",
      "ROC AUC: 0.9228\n",
      "Confusion Matrix: \n",
      "[[3142  219]\n",
      " [ 199 2031]]\n",
      "\n",
      "Results for Simple_CART:\n",
      "Accuracy: 0.9170\n",
      "Precision: 0.8876\n",
      "Recall: 0.9067\n",
      "F1-Score: 0.8971\n",
      "ROC AUC: 0.9153\n",
      "Confusion Matrix: \n",
      "[[3105  256]\n",
      " [ 208 2022]]\n",
      "\n",
      "Results for Random_Forest:\n",
      "Accuracy: 0.9530\n",
      "Precision: 0.9448\n",
      "Recall: 0.9368\n",
      "F1-Score: 0.9408\n",
      "ROC AUC: 0.9502\n",
      "Confusion Matrix: \n",
      "[[3239  122]\n",
      " [ 141 2089]]\n",
      "\n",
      "Results for Random_Tree:\n",
      "Accuracy: 0.9170\n",
      "Precision: 0.8876\n",
      "Recall: 0.9067\n",
      "F1-Score: 0.8971\n",
      "ROC AUC: 0.9153\n",
      "Confusion Matrix: \n",
      "[[3105  256]\n",
      " [ 208 2022]]\n",
      "\n",
      "Results for ADTree:\n",
      "Accuracy: 0.9170\n",
      "Precision: 0.8876\n",
      "Recall: 0.9067\n",
      "F1-Score: 0.8971\n",
      "ROC AUC: 0.9153\n",
      "Confusion Matrix: \n",
      "[[3105  256]\n",
      " [ 208 2022]]\n",
      "\n",
      "Results for REPTree:\n",
      "Accuracy: 0.9170\n",
      "Precision: 0.8876\n",
      "Recall: 0.9067\n",
      "F1-Score: 0.8971\n",
      "ROC AUC: 0.9153\n",
      "Confusion Matrix: \n",
      "[[3105  256]\n",
      " [ 208 2022]]\n",
      "\n"
     ]
    }
   ],
   "source": [
    "for name, clf in classifiers.items():\n",
    "    clf.fit(X_train_features, y_train)\n",
    "    y_pred = clf.predict(X_test_features)\n",
    "    print(f\"Results for {name}:\")\n",
    "    print(f\"Accuracy: {accuracy_score(y_test, y_pred):.4f}\")\n",
    "    print(f\"Precision: {precision_score(y_test, y_pred):.4f}\")\n",
    "    print(f\"Recall: {recall_score(y_test, y_pred):.4f}\")\n",
    "    print(f\"F1-Score: {f1_score(y_test, y_pred):.4f}\")\n",
    "    print(f\"ROC AUC: {roc_auc_score(y_test, y_pred):.4f}\")\n",
    "    print(f\"Confusion Matrix: \\n{confusion_matrix(y_test, y_pred)}\\n\")"
   ]
  },
  {
   "cell_type": "code",
   "execution_count": 170,
   "id": "75406db4-5ea4-4444-afb2-69685bdb194c",
   "metadata": {},
   "outputs": [],
   "source": [
    "# Multi-Model Majority Voting Classification System\n",
    "voting_clf = VotingClassifier(estimators=[(name, clf) for name, clf in classifiers.items()], voting='hard')\n",
    "voting_clf.fit(X_train_features, y_train)\n",
    "y_pred_voting = voting_clf.predict(X_test_features)"
   ]
  },
  {
   "cell_type": "code",
   "execution_count": 152,
   "id": "451087ab-43f2-40a3-a621-a69298bcdefb",
   "metadata": {},
   "outputs": [
    {
     "name": "stdout",
     "output_type": "stream",
     "text": [
      "Results for Majority Voting Model:\n",
      "Accuracy: 0.9170\n",
      "Precision: 0.8876\n",
      "Recall: 0.9067\n",
      "F1-Score: 0.8971\n",
      "ROC AUC: 0.9153\n",
      "Confusion Matrix: \n",
      "[[3105  256]\n",
      " [ 208 2022]]\n",
      "\n"
     ]
    }
   ],
   "source": [
    "print(\"Results for Majority Voting Model:\")\n",
    "print(f\"Accuracy: {accuracy_score(y_test, y_pred_voting):.4f}\")\n",
    "print(f\"Precision: {precision_score(y_test, y_pred_voting):.4f}\")\n",
    "print(f\"Recall: {recall_score(y_test, y_pred_voting):.4f}\")\n",
    "print(f\"F1-Score: {f1_score(y_test, y_pred_voting):.4f}\")\n",
    "print(f\"ROC AUC: {roc_auc_score(y_test, y_pred_voting):.4f}\")\n",
    "print(f\"Confusion Matrix: \\n{confusion_matrix(y_test, y_pred_voting)}\\n\")"
   ]
  },
  {
   "cell_type": "code",
   "execution_count": null,
   "id": "3c82ccb2-0690-40a8-8a06-1e76e6a2e9a1",
   "metadata": {},
   "outputs": [],
   "source": []
  }
 ],
 "metadata": {
  "kernelspec": {
   "display_name": "Python 3 (ipykernel)",
   "language": "python",
   "name": "python3"
  },
  "language_info": {
   "codemirror_mode": {
    "name": "ipython",
    "version": 3
   },
   "file_extension": ".py",
   "mimetype": "text/x-python",
   "name": "python",
   "nbconvert_exporter": "python",
   "pygments_lexer": "ipython3",
   "version": "3.11.5"
  }
 },
 "nbformat": 4,
 "nbformat_minor": 5
}
